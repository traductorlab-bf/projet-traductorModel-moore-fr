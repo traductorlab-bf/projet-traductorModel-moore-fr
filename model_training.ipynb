{
 "cells": [
  {
   "cell_type": "markdown",
   "metadata": {
    "colab_type": "text",
    "id": "IrKqvZpioM7R"
   },
   "source": [
    "### model training"
   ]
  },
  {
   "cell_type": "code",
   "execution_count": 38,
   "metadata": {},
   "outputs": [],
   "source": [
    "#https://github.com/bonaventuredossou/ffr-v1/blob/master/model_train_test/fon_fr.py\n",
    "from __future__ import absolute_import, division, print_function, unicode_literals\n",
    "\n",
    "import io\n",
    "import os\n",
    "import re\n",
    "import string\n",
    "import time\n",
    "import unicodedata\n",
    "\n",
    "import matplotlib.pyplot as plt\n",
    "import matplotlib.ticker as ticker\n",
    "import numpy as np\n",
    "import tensorflow as tf\n",
    "# from nltk import bleu\n",
    "from nltk.translate.bleu_score import corpus_bleu\n",
    "from nltk.translate.gleu_score import corpus_gleu\n",
    "from sklearn.model_selection import train_test_split"
   ]
  },
  {
   "cell_type": "markdown",
   "metadata": {},
   "source": [
    "### Added : load doc into memory"
   ]
  },
  {
   "cell_type": "code",
   "execution_count": 39,
   "metadata": {},
   "outputs": [],
   "source": [
    "# Added : load doc into memory\n",
    "def load_doc(filename):\n",
    "    # open the file as read only\n",
    "    file = open(filename, mode='rt', encoding='utf-8')\n",
    "    # read all text\n",
    "    text = file.read().split(\"\\n\")\n",
    "    # close the file\n",
    "    file.close()\n",
    "    return text"
   ]
  },
  {
   "cell_type": "markdown",
   "metadata": {},
   "source": [
    "### Added : save list to file"
   ]
  },
  {
   "cell_type": "code",
   "execution_count": 40,
   "metadata": {},
   "outputs": [],
   "source": [
    "# Added : save list to file\n",
    "path_save =\"db/\"\n",
    "def save_list(lines, filename):\n",
    "    # convert lines to a single blob of text\n",
    "    data = '\\n'.join(lines)\n",
    "    # open file\n",
    "    file = open(path_save+filename, 'w', encoding=\"utf-8\")\n",
    "    # write text\n",
    "    file.write(data)\n",
    "    # close file\n",
    "    file.close()"
   ]
  },
  {
   "cell_type": "code",
   "execution_count": 41,
   "metadata": {},
   "outputs": [
    {
     "name": "stdout",
     "output_type": "stream",
     "text": [
      "Available languages are : Fon, Fr\n",
      "\n",
      "Enter the source language and destination separated by a space : Fon Fr\n"
     ]
    }
   ],
   "source": [
    "current_languages = ['Fon', 'Fr']\n",
    "src_lang, dest_lang = map(str, input(\"Available languages are : \" + ', '.join(i.strip().capitalize() for i in\n",
    "                                                                              current_languages) + \"\\n\\nEnter the source\"\n",
    "                                                                                                   \" language and \"\n",
    "                                                                                                   \"destination \"\n",
    "                                                                                                   \"separated by a \"\n",
    "                                                                                                   \"space : \").split())\n",
    "\n",
    "path_to_file = \"db/dataset_mos_fr.txt\""
   ]
  },
  {
   "cell_type": "markdown",
   "metadata": {},
   "source": [
    "### Converts the unicode file to ascii"
   ]
  },
  {
   "cell_type": "code",
   "execution_count": 42,
   "metadata": {},
   "outputs": [],
   "source": [
    "# Converts the unicode file to ascii\n",
    "def unicode_to_ascii(s):\n",
    "    return ''.join(c for c in unicodedata.normalize('NFD', s)\n",
    "                   if unicodedata.category(c) != 'Mn')\n",
    "\n",
    "\n",
    "def normalize_diacritics_text(text_string):\n",
    "    \"\"\"Convenience wrapper to abstract away unicode & NFC\"\"\"\n",
    "    return unicodedata.normalize(\"NFC\", text_string)\n"
   ]
  },
  {
   "cell_type": "markdown",
   "metadata": {},
   "source": [
    "### Modified to handle Fon diacritics"
   ]
  },
  {
   "cell_type": "code",
   "execution_count": 43,
   "metadata": {},
   "outputs": [],
   "source": [
    "# Modified to handle Fon diacritics\n",
    "def preprocess_sentence(w):\n",
    "    w = normalize_diacritics_text(w.lower().strip())\n",
    "    w = re.sub(r\"([?.!,¿])\", r\" \\1 \", w)\n",
    "    w = re.sub(r'[\" \"]+', \" \", w)\n",
    "    re_punc = re.compile('[%s]' % re.escape(string.punctuation))\n",
    "    w = re_punc.sub('', w)\n",
    "\n",
    "    lines_str = w.replace(\"”\", \"\")\n",
    "    lines_str = lines_str.replace(\"“\", \"\")\n",
    "    lines_str = lines_str.replace(\"’\", \"'\")\n",
    "    lines_str = lines_str.replace(\"«\", \"\")\n",
    "    lines_str = lines_str.replace(\"»\", \"\")\n",
    "    lines_str = ' '.join([word for word in lines_str.split() if word.isalpha()])\n",
    "    w = '<start> ' + lines_str + ' <end>'\n",
    "    return w\n",
    "\n",
    "##\n",
    "def preprocess_sentence_1(w):\n",
    "    w = unicode_to_ascii(w.lower().strip())\n",
    "\n",
    "    w = re.sub(r\"([?.!,¿])\", r\" \\1 \", w)\n",
    "    w = re.sub(r'[\" \"]+', \" \", w)\n",
    "    # w = re.sub(r\"[^a-zA-Z?.!,¿]+\", \" \", w)\n",
    "\n",
    "    re_punc = re.compile('[%s]' % re.escape(string.punctuation))\n",
    "    w = re_punc.sub('', w)\n",
    "\n",
    "    lines_str = w.replace(\"”\", \"\")\n",
    "    lines_str = lines_str.replace(\"“\", \"\")\n",
    "    lines_str = lines_str.replace(\"’\", \"'\")\n",
    "    lines_str = lines_str.replace(\"«\", \"\")\n",
    "    lines_str = lines_str.replace(\"»\", \"\")\n",
    "    lines_str = ' '.join([word for word in lines_str.split() if word.isalpha()])\n",
    "    return lines_str\n",
    "\n",
    "##\n",
    "def create_dataset(path, num_examples):\n",
    "    lines = io.open(path, encoding='UTF-8').read().strip().split('\\n')\n",
    "    word_pairs = [[preprocess_sentence(w) for w in l.split('\\t')] for l in lines[:num_examples] if\n",
    "                  len(l.split(\"\\t\")) == 2 and preprocess_sentence_1(\n",
    "                      l.split(\"\\t\")[1].strip(\"\\n\")) != \"\" and preprocess_sentence_1(\n",
    "                      l.split(\"\\t\")[0].strip(\"\\n\")) != \"\"]  # to make sure the element has two pairs :\n",
    "    # Fon sentence and its French translation\n",
    "    return zip(*word_pairs)"
   ]
  },
  {
   "cell_type": "markdown",
   "metadata": {},
   "source": [
    "### Creation de la base"
   ]
  },
  {
   "cell_type": "code",
   "execution_count": 44,
   "metadata": {},
   "outputs": [],
   "source": [
    "# en moore, sp for French\n",
    "fon, fr = create_dataset(path_to_file, None)"
   ]
  },
  {
   "cell_type": "markdown",
   "metadata": {},
   "source": [
    "### Data processing"
   ]
  },
  {
   "cell_type": "code",
   "execution_count": 45,
   "metadata": {},
   "outputs": [],
   "source": [
    "def max_length(tensor):\n",
    "    return max(len(t) for t in tensor)\n",
    "\n",
    "\n",
    "def tokenize(lang):\n",
    "    lang_tokenizer = tf.keras.preprocessing.text.Tokenizer(\n",
    "        filters='')\n",
    "    lang_tokenizer.fit_on_texts(lang)\n",
    "\n",
    "    tensor = lang_tokenizer.texts_to_sequences(lang)\n",
    "\n",
    "    tensor = tf.keras.preprocessing.sequence.pad_sequences(tensor,\n",
    "                                                           padding='post')\n",
    "\n",
    "    return tensor, lang_tokenizer"
   ]
  },
  {
   "cell_type": "code",
   "execution_count": 46,
   "metadata": {},
   "outputs": [],
   "source": [
    "def load_dataset(path, num_examples=None):\n",
    "    # creating cleaned input, output pairs\n",
    "    if src_lang.lower().strip() == \"fon\":\n",
    "        inp_lang, targ_lang = create_dataset(path, num_examples)\n",
    "        save_list(inp_lang, \"training_fon_sentences.txt\")\n",
    "        save_list(targ_lang, \"training_french_sentences.txt\")\n",
    "    else:\n",
    "        targ_lang, inp_lang = create_dataset(path, num_examples)\n",
    "        # not handled yet : This part will create the model for French - Fon translation\n",
    "        save_list(inp_lang, \"training_fon_sentences.txt\")\n",
    "        save_list(targ_lang, \"training_french_sentences.txt\")\n",
    "\n",
    "    input_tensor, inp_lang_tokenizer = tokenize(inp_lang)\n",
    "    target_tensor, targ_lang_tokenizer = tokenize(targ_lang)\n",
    "\n",
    "    return input_tensor, target_tensor, inp_lang_tokenizer, targ_lang_tokenizer"
   ]
  },
  {
   "cell_type": "code",
   "execution_count": 47,
   "metadata": {},
   "outputs": [
    {
     "name": "stdout",
     "output_type": "stream",
     "text": [
      "Total Dataset Size : 201852 - Training Size : 181666 - Testing Size (with BLEU) : 20186\n"
     ]
    }
   ],
   "source": [
    "num_examples = int(0.9 * len(fon))\n",
    "\n",
    "print(\"Total Dataset Size : {} - Training Size : {} - Testing Size (with BLEU) : {}\".format(len(fon), num_examples,\n",
    "                                                                                            len(fon) - num_examples))\n",
    "input_tensor, target_tensor, inp_lang, targ_lang = load_dataset(path_to_file, num_examples)\n",
    "\n",
    "# Calculate max_length of the target tensors\n",
    "max_length_targ, max_length_inp = max_length(target_tensor), max_length(input_tensor)\n",
    "\n",
    "# Creating training and validation sets using an 90-10 split\n",
    "input_tensor_train, input_tensor_val, target_tensor_train, target_tensor_val = train_test_split(input_tensor,\n",
    "                                                                                                target_tensor,\n",
    "                                                                                                test_size=0.1)\n"
   ]
  },
  {
   "cell_type": "code",
   "execution_count": 48,
   "metadata": {},
   "outputs": [
    {
     "data": {
      "text/plain": [
       "array([[   3,    8, 2494, ...,    0,    0,    0],\n",
       "       [   3, 1569,    2, ...,    0,    0,    0],\n",
       "       [   3,   32,    7, ...,    0,    0,    0],\n",
       "       ...,\n",
       "       [   3,    5,  162, ...,    0,    0,    0],\n",
       "       [   3,    9,   56, ...,    0,    0,    0],\n",
       "       [   3,    2,   26, ...,    0,    0,    0]])"
      ]
     },
     "execution_count": 48,
     "metadata": {},
     "output_type": "execute_result"
    }
   ],
   "source": [
    "input_tensor_train"
   ]
  },
  {
   "cell_type": "code",
   "execution_count": 49,
   "metadata": {},
   "outputs": [
    {
     "data": {
      "text/plain": [
       "array([[   1,    8,  337, ...,    0,    0,    0],\n",
       "       [   1,    8,  376, ...,    0,    0,    0],\n",
       "       [   1,    9, 1961, ...,    0,    0,    0],\n",
       "       ...,\n",
       "       [   1,    3,   37, ...,    0,    0,    0],\n",
       "       [   1,  596, 1454, ...,    0,    0,    0],\n",
       "       [   1,   13,  518, ...,    0,    0,    0]])"
      ]
     },
     "execution_count": 49,
     "metadata": {},
     "output_type": "execute_result"
    }
   ],
   "source": [
    "target_tensor_train"
   ]
  },
  {
   "cell_type": "markdown",
   "metadata": {},
   "source": [
    "### Parameters chosen"
   ]
  },
  {
   "cell_type": "code",
   "execution_count": 50,
   "metadata": {},
   "outputs": [
    {
     "name": "stdout",
     "output_type": "stream",
     "text": [
      "Moore vocabulary size : 19096 - French vocabulary : 37767\n"
     ]
    }
   ],
   "source": [
    "# parameters chosen after many trials :)\n",
    "BUFFER_SIZE = len(input_tensor_train)\n",
    "BATCH_SIZE = 100\n",
    "steps_per_epoch = len(input_tensor_train) // BATCH_SIZE\n",
    "units = 128\n",
    "vocab_inp_size = len(inp_lang.word_index) + 1\n",
    "vocab_tar_size = len(targ_lang.word_index) + 1\n",
    "embedding_dim = 512\n",
    "\n",
    "print(\"Moore vocabulary size : {} - French vocabulary : {}\".format(vocab_inp_size, vocab_tar_size))\n",
    "\n",
    "dataset = tf.data.Dataset.from_tensor_slices((input_tensor_train, target_tensor_train)).shuffle(BUFFER_SIZE)\n",
    "dataset = dataset.batch(BATCH_SIZE, drop_remainder=True)\n",
    "\n",
    "example_input_batch, example_target_batch = next(iter(dataset))"
   ]
  },
  {
   "cell_type": "code",
   "execution_count": 51,
   "metadata": {},
   "outputs": [
    {
     "data": {
      "text/plain": [
       "<tf.Tensor: shape=(100, 123), dtype=int32, numpy=\n",
       "array([[   3,    2,  105, ...,    0,    0,    0],\n",
       "       [   3,   31, 4698, ...,    0,    0,    0],\n",
       "       [   3,  226,    7, ...,    0,    0,    0],\n",
       "       ...,\n",
       "       [   3,   32,    1, ...,    0,    0,    0],\n",
       "       [   3,    2, 6486, ...,    0,    0,    0],\n",
       "       [   3,    2,   36, ...,    0,    0,    0]])>"
      ]
     },
     "execution_count": 51,
     "metadata": {},
     "output_type": "execute_result"
    }
   ],
   "source": [
    "example_input_batch"
   ]
  },
  {
   "cell_type": "code",
   "execution_count": 52,
   "metadata": {},
   "outputs": [
    {
     "data": {
      "text/plain": [
       "<tf.Tensor: shape=(100, 904), dtype=int32, numpy=\n",
       "array([[   1, 2583,  655, ...,    0,    0,    0],\n",
       "       [   1,   10,   10, ...,    0,    0,    0],\n",
       "       [   1,   32,  571, ...,    0,    0,    0],\n",
       "       ...,\n",
       "       [   1,   22,   15, ...,    0,    0,    0],\n",
       "       [   1,   14, 5405, ...,    0,    0,    0],\n",
       "       [   1,   40,   54, ...,    0,    0,    0]])>"
      ]
     },
     "execution_count": 52,
     "metadata": {},
     "output_type": "execute_result"
    }
   ],
   "source": [
    "example_target_batch"
   ]
  },
  {
   "cell_type": "markdown",
   "metadata": {},
   "source": [
    "### Data encoding"
   ]
  },
  {
   "cell_type": "code",
   "execution_count": 53,
   "metadata": {},
   "outputs": [],
   "source": [
    "class Encoder(tf.keras.Model):\n",
    "    def __init__(self, vocab_size, embedding_dim, enc_units, batch_sz):\n",
    "        super(Encoder, self).__init__()\n",
    "        self.batch_sz = batch_sz\n",
    "        self.enc_units = enc_units\n",
    "        self.embedding = tf.keras.layers.Embedding(vocab_size, embedding_dim)\n",
    "        self.gru = tf.keras.layers.GRU(self.enc_units,\n",
    "                                       return_sequences=True,\n",
    "                                       return_state=True,\n",
    "                                       recurrent_initializer='glorot_uniform')\n",
    "\n",
    "    def call(self, x, hidden):\n",
    "        x = self.embedding(x)\n",
    "        output, state = self.gru(x, initial_state=hidden)\n",
    "        return output, state\n",
    "\n",
    "    def initialize_hidden_state(self):\n",
    "        return tf.zeros((self.batch_sz, self.enc_units))"
   ]
  },
  {
   "cell_type": "code",
   "execution_count": 54,
   "metadata": {},
   "outputs": [],
   "source": [
    "encoder = Encoder(vocab_inp_size, embedding_dim, units, BATCH_SIZE)\n",
    "# sample input\n",
    "sample_hidden = encoder.initialize_hidden_state()\n",
    "sample_output, sample_hidden = encoder(example_input_batch, sample_hidden)"
   ]
  },
  {
   "cell_type": "code",
   "execution_count": 55,
   "metadata": {},
   "outputs": [
    {
     "data": {
      "text/plain": [
       "<__main__.Encoder at 0x1e91e577820>"
      ]
     },
     "execution_count": 55,
     "metadata": {},
     "output_type": "execute_result"
    }
   ],
   "source": [
    "encoder"
   ]
  },
  {
   "cell_type": "code",
   "execution_count": 56,
   "metadata": {},
   "outputs": [
    {
     "data": {
      "text/plain": [
       "<tf.Tensor: shape=(100, 128), dtype=float32, numpy=\n",
       "array([[-5.1403287e-05,  1.3570758e-02,  1.0415660e-02, ...,\n",
       "        -3.3845152e-03, -1.4415467e-02,  3.8831525e-02],\n",
       "       [-5.1403986e-05,  1.3570759e-02,  1.0415660e-02, ...,\n",
       "        -3.3845161e-03, -1.4415467e-02,  3.8831525e-02],\n",
       "       [-5.1403753e-05,  1.3570758e-02,  1.0415658e-02, ...,\n",
       "        -3.3845180e-03, -1.4415467e-02,  3.8831525e-02],\n",
       "       ...,\n",
       "       [-5.1402589e-05,  1.3570759e-02,  1.0415660e-02, ...,\n",
       "        -3.3845142e-03, -1.4415467e-02,  3.8831525e-02],\n",
       "       [-5.1402807e-05,  1.3570758e-02,  1.0415660e-02, ...,\n",
       "        -3.3845161e-03, -1.4415467e-02,  3.8831525e-02],\n",
       "       [-5.1402822e-05,  1.3570758e-02,  1.0415662e-02, ...,\n",
       "        -3.3845156e-03, -1.4415469e-02,  3.8831525e-02]], dtype=float32)>"
      ]
     },
     "execution_count": 56,
     "metadata": {},
     "output_type": "execute_result"
    }
   ],
   "source": [
    "sample_hidden"
   ]
  },
  {
   "cell_type": "code",
   "execution_count": 57,
   "metadata": {},
   "outputs": [
    {
     "data": {
      "text/plain": [
       "TensorShape([100, 123, 128])"
      ]
     },
     "execution_count": 57,
     "metadata": {},
     "output_type": "execute_result"
    }
   ],
   "source": [
    "sample_output.shape"
   ]
  },
  {
   "cell_type": "markdown",
   "metadata": {},
   "source": [
    "### Data BahdanauAttention"
   ]
  },
  {
   "cell_type": "code",
   "execution_count": 58,
   "metadata": {},
   "outputs": [],
   "source": [
    "class BahdanauAttention(tf.keras.Model):\n",
    "    def __init__(self, units):\n",
    "        super(BahdanauAttention, self).__init__()\n",
    "        self.W1 = tf.keras.layers.Dense(units)\n",
    "        self.W2 = tf.keras.layers.Dense(units)\n",
    "        self.V = tf.keras.layers.Dense(1)\n",
    "\n",
    "    def call(self, query, values):\n",
    "        # hidden shape == (batch_size, hidden size)\n",
    "        # hidden_with_time_axis shape == (batch_size, 1, hidden size)\n",
    "        # we are doing this to perform addition to calculate the score\n",
    "        hidden_with_time_axis = tf.expand_dims(query, 1)\n",
    "\n",
    "        # score shape == (batch_size, max_length, 1)\n",
    "        # we get 1 at the last axis because we are applying score to self.V\n",
    "        # the shape of the tensor before applying self.V is (batch_size, max_length, units)\n",
    "        score = self.V(tf.nn.tanh(\n",
    "            self.W1(values) + self.W2(hidden_with_time_axis)))\n",
    "\n",
    "        # attention_weights shape == (batch_size, max_length, 1)\n",
    "        attention_weights = tf.nn.softmax(score, axis=1)\n",
    "\n",
    "        # context_vector shape after sum == (batch_size, hidden_size)\n",
    "        context_vector = attention_weights * values\n",
    "        context_vector = tf.reduce_sum(context_vector, axis=1)\n",
    "\n",
    "        return context_vector, attention_weights"
   ]
  },
  {
   "cell_type": "code",
   "execution_count": 59,
   "metadata": {},
   "outputs": [],
   "source": [
    "attention_layer = BahdanauAttention(30)\n",
    "attention_result, attention_weights = attention_layer(sample_hidden, sample_output)"
   ]
  },
  {
   "cell_type": "code",
   "execution_count": 60,
   "metadata": {},
   "outputs": [
    {
     "data": {
      "text/plain": [
       "<__main__.BahdanauAttention at 0x1e91f7c02e0>"
      ]
     },
     "execution_count": 60,
     "metadata": {},
     "output_type": "execute_result"
    }
   ],
   "source": [
    "attention_layer"
   ]
  },
  {
   "cell_type": "code",
   "execution_count": 61,
   "metadata": {},
   "outputs": [
    {
     "data": {
      "text/plain": [
       "<tf.Tensor: shape=(100, 128), dtype=float32, numpy=\n",
       "array([[-0.00036183,  0.0096307 ,  0.0062114 , ..., -0.00356627,\n",
       "        -0.01285589,  0.03101574],\n",
       "       [-0.00080968,  0.00995507,  0.00869432, ..., -0.00309501,\n",
       "        -0.01271352,  0.02870331],\n",
       "       [-0.00126278,  0.01128445,  0.00786742, ..., -0.0044777 ,\n",
       "        -0.01328846,  0.0314171 ],\n",
       "       ...,\n",
       "       [-0.00078213,  0.00944322,  0.00953457, ..., -0.00211941,\n",
       "        -0.01309382,  0.02833433],\n",
       "       [ 0.0006816 ,  0.01088744,  0.00927824, ..., -0.00435056,\n",
       "        -0.01290944,  0.03183211],\n",
       "       [-0.00037555,  0.00962019,  0.01031721, ..., -0.00163235,\n",
       "        -0.01304449,  0.0327349 ]], dtype=float32)>"
      ]
     },
     "execution_count": 61,
     "metadata": {},
     "output_type": "execute_result"
    }
   ],
   "source": [
    "attention_result"
   ]
  },
  {
   "cell_type": "code",
   "execution_count": 62,
   "metadata": {},
   "outputs": [
    {
     "data": {
      "text/plain": [
       "TensorShape([100, 123, 1])"
      ]
     },
     "execution_count": 62,
     "metadata": {},
     "output_type": "execute_result"
    }
   ],
   "source": [
    "attention_weights.shape"
   ]
  },
  {
   "cell_type": "markdown",
   "metadata": {},
   "source": [
    "### Data Decoding"
   ]
  },
  {
   "cell_type": "code",
   "execution_count": 63,
   "metadata": {},
   "outputs": [],
   "source": [
    "class Decoder(tf.keras.Model):\n",
    "    def __init__(self, vocab_size, embedding_dim, dec_units, batch_sz):\n",
    "        super(Decoder, self).__init__()\n",
    "        self.batch_sz = batch_sz\n",
    "        self.dec_units = dec_units\n",
    "\n",
    "        self.embedding = tf.keras.layers.Embedding(vocab_size, embedding_dim)\n",
    "        self.gru = tf.keras.layers.GRU(self.dec_units,\n",
    "                                       return_sequences=True,\n",
    "                                       return_state=True,\n",
    "                                       recurrent_initializer='glorot_uniform')\n",
    "        self.fc = tf.keras.layers.Dense(vocab_size)\n",
    "\n",
    "        # used for attention\n",
    "        self.attention = BahdanauAttention(self.dec_units)\n",
    "\n",
    "    def call(self, x, hidden, enc_output):\n",
    "        # enc_output shape == (batch_size, max_length, hidden_size)\n",
    "        context_vector, attention_weights = self.attention(hidden, enc_output)\n",
    "\n",
    "        # x shape after passing through embedding == (batch_size, 1, embedding_dim)\n",
    "        x = self.embedding(x)\n",
    "\n",
    "        # x shape after concatenation == (batch_size, 1, embedding_dim + hidden_size)\n",
    "        x = tf.concat([tf.expand_dims(context_vector, 1), x], axis=-1)\n",
    "\n",
    "        # passing the concatenated vector to the GRU\n",
    "        output, state = self.gru(x)\n",
    "\n",
    "        # output shape == (batch_size * 1, hidden_size)\n",
    "        output = tf.reshape(output, (-1, output.shape[2]))\n",
    "\n",
    "        # output shape == (batch_size, vocab)\n",
    "        x = self.fc(output)\n",
    "\n",
    "        return x, state, attention_weights"
   ]
  },
  {
   "cell_type": "code",
   "execution_count": 64,
   "metadata": {},
   "outputs": [],
   "source": [
    "decoder = Decoder(vocab_tar_size, embedding_dim, units, BATCH_SIZE)\n",
    "\n",
    "sample_decoder_output, _, _ = decoder(tf.random.uniform((BATCH_SIZE, 1)),sample_hidden, \n",
    "                                      sample_output)\n",
    "\n",
    "optimizer = tf.keras.optimizers.Adam(0.001)\n",
    "loss_object = tf.keras.losses.SparseCategoricalCrossentropy(from_logits=True, reduction='none')"
   ]
  },
  {
   "cell_type": "code",
   "execution_count": 65,
   "metadata": {},
   "outputs": [
    {
     "data": {
      "text/plain": [
       "<__main__.Decoder at 0x1e9122c28e0>"
      ]
     },
     "execution_count": 65,
     "metadata": {},
     "output_type": "execute_result"
    }
   ],
   "source": [
    "decoder"
   ]
  },
  {
   "cell_type": "code",
   "execution_count": 66,
   "metadata": {},
   "outputs": [
    {
     "data": {
      "text/plain": [
       "<tf.Tensor: shape=(100, 37767), dtype=float32, numpy=\n",
       "array([[-0.00136134,  0.00250929,  0.00271262, ..., -0.00103828,\n",
       "        -0.00172414, -0.00185995],\n",
       "       [-0.00134683,  0.00252803,  0.00273011, ..., -0.00099157,\n",
       "        -0.00176009, -0.00189563],\n",
       "       [-0.00124313,  0.0024567 ,  0.00276376, ..., -0.000992  ,\n",
       "        -0.00178774, -0.00190039],\n",
       "       ...,\n",
       "       [-0.00135551,  0.00247507,  0.00275538, ..., -0.00099288,\n",
       "        -0.00175096, -0.00189589],\n",
       "       [-0.00128513,  0.00250751,  0.00272516, ..., -0.0010091 ,\n",
       "        -0.00180791, -0.00192754],\n",
       "       [-0.00129027,  0.00245617,  0.00274344, ..., -0.00102753,\n",
       "        -0.00177447, -0.00191941]], dtype=float32)>"
      ]
     },
     "execution_count": 66,
     "metadata": {},
     "output_type": "execute_result"
    }
   ],
   "source": [
    "sample_decoder_output"
   ]
  },
  {
   "cell_type": "code",
   "execution_count": 67,
   "metadata": {},
   "outputs": [
    {
     "data": {
      "text/plain": [
       "<tensorflow.python.keras.optimizer_v2.adam.Adam at 0x1e9122e0520>"
      ]
     },
     "execution_count": 67,
     "metadata": {},
     "output_type": "execute_result"
    }
   ],
   "source": [
    "optimizer"
   ]
  },
  {
   "cell_type": "markdown",
   "metadata": {},
   "source": [
    "### Data checkpoint"
   ]
  },
  {
   "cell_type": "code",
   "execution_count": 68,
   "metadata": {},
   "outputs": [],
   "source": [
    "def loss_function(real, pred):\n",
    "    mask = tf.math.logical_not(tf.math.equal(real, 0))\n",
    "    loss_ = loss_object(real, pred)\n",
    "\n",
    "    mask = tf.cast(mask, dtype=loss_.dtype)\n",
    "    loss_ *= mask\n",
    "\n",
    "    return tf.reduce_mean(loss_)"
   ]
  },
  {
   "cell_type": "code",
   "execution_count": 69,
   "metadata": {},
   "outputs": [],
   "source": [
    "checkpoint_dir = 'Traductor-Lab/model-moore/training_checkpoints_1'\n",
    "checkpoint_prefix = os.path.join(checkpoint_dir, \"ckpt\")\n",
    "checkpoint = tf.train.Checkpoint(optimizer=optimizer,\n",
    "                                 encoder=encoder,\n",
    "                                 decoder=decoder)"
   ]
  },
  {
   "cell_type": "code",
   "execution_count": 70,
   "metadata": {},
   "outputs": [
    {
     "data": {
      "text/plain": [
       "'C:/Users/aso.RCTS/Downloads/Armel/Traductor-Lab/model-moore/training_checkpoints_1\\\\ckpt'"
      ]
     },
     "execution_count": 70,
     "metadata": {},
     "output_type": "execute_result"
    }
   ],
   "source": [
    "checkpoint_prefix"
   ]
  },
  {
   "cell_type": "code",
   "execution_count": 71,
   "metadata": {},
   "outputs": [
    {
     "data": {
      "text/plain": [
       "<tensorflow.python.training.tracking.util.Checkpoint at 0x1e91aa08190>"
      ]
     },
     "execution_count": 71,
     "metadata": {},
     "output_type": "execute_result"
    }
   ],
   "source": [
    "checkpoint"
   ]
  },
  {
   "cell_type": "markdown",
   "metadata": {},
   "source": [
    "#### DEFINES BATCH TRAINING PROCESS"
   ]
  },
  {
   "cell_type": "code",
   "execution_count": 72,
   "metadata": {},
   "outputs": [],
   "source": [
    "# DEFINES BATCH TRAINING PROCESS\n",
    "def train_step(inp, targ, enc_hidden):\n",
    "    loss = 0\n",
    "    with tf.GradientTape() as tape:\n",
    "        enc_output, enc_hidden = encoder(inp, enc_hidden)\n",
    "        dec_hidden = enc_hidden\n",
    "        dec_input = tf.expand_dims([targ_lang.word_index['<start>']] * BATCH_SIZE, 1)\n",
    "        # dec_input = tf.expand_dims([1]*BATCH_SIZE, 1)\n",
    "        # Teacher forcing - feeding the target as the next input\n",
    "        for t in range(1, targ.shape[1]):\n",
    "            # passing enc_output to the decoder\n",
    "            predictions, dec_hidden, _ = decoder(dec_input, dec_hidden, enc_output)\n",
    "            loss += loss_function(targ[:, t], predictions)\n",
    "            # using teacher forcing\n",
    "            dec_input = tf.expand_dims(targ[:, t], 1)\n",
    "\n",
    "    batch_loss = (loss / int(targ.shape[1]))\n",
    "    variables = encoder.trainable_variables + decoder.trainable_variables\n",
    "    gradients = tape.gradient(loss, variables)\n",
    "    optimizer.apply_gradients(zip(gradients, variables))\n",
    "    return batch_loss"
   ]
  },
  {
   "cell_type": "markdown",
   "metadata": {},
   "source": [
    "### Data training"
   ]
  },
  {
   "cell_type": "code",
   "execution_count": null,
   "metadata": {},
   "outputs": [
    {
     "name": "stdout",
     "output_type": "stream",
     "text": [
      "Epoch 1 Batch 0 Loss 0.2093\n"
     ]
    }
   ],
   "source": [
    "EPOCHS = 5\n",
    "array_epochs, array_losses = [], []\n",
    "for epoch in range(EPOCHS):\n",
    "\n",
    "    array_epochs.append(epoch)\n",
    "\n",
    "    start = time.time()\n",
    "    enc_hidden = encoder.initialize_hidden_state()\n",
    "    total_loss = 0\n",
    "\n",
    "    for (batch, (inp, targ)) in enumerate(dataset.take(steps_per_epoch)):\n",
    "        batch_loss = train_step(inp, targ, enc_hidden)\n",
    "        total_loss += batch_loss\n",
    "\n",
    "        if batch % 100 == 0:\n",
    "            print('Epoch {} Batch {} Loss {:.4f}'.format(epoch + 1,\n",
    "                                                         batch,\n",
    "                                                         batch_loss.numpy()))\n",
    "    # saving (checkpoint) the model every epoch\n",
    "    checkpoint.save(file_prefix=checkpoint_prefix)\n",
    "\n",
    "    print('Epoch_{} Loss {:.4f}'.format(epoch + 1,\n",
    "                                        total_loss / steps_per_epoch))\n",
    "    array_losses.append(total_loss / steps_per_epoch)\n",
    "    print('Time taken for epoch_{} : {} sec\\n'.format(epoch + 1, time.time() - start))\n",
    "\n",
    "np.save(\"all_epoch_fr_fon_{}\".format(EPOCHS), np.array(array_epochs))\n",
    "np.save(\"all_losses_fr_fon_{}\".format(EPOCHS), np.array(array_losses))"
   ]
  },
  {
   "cell_type": "markdown",
   "metadata": {},
   "source": [
    "#### Training evaluation"
   ]
  },
  {
   "cell_type": "code",
   "execution_count": null,
   "metadata": {},
   "outputs": [],
   "source": [
    "def evaluate(sentence):\n",
    "    attention_plot = np.zeros((max_length_targ, max_length_inp))\n",
    "    sentence = preprocess_sentence(sentence)\n",
    "    inputs = [inp_lang.word_index[i] for i in sentence.split(' ') if i in inp_lang.word_docs]\n",
    "    inputs_not = [(i, sentence.index(i)) for i in sentence.split(' ') if i not in inp_lang.word_docs]\n",
    "    # print(inputs, inputs_not)\n",
    "    inputs = tf.keras.preprocessing.sequence.pad_sequences([inputs],\n",
    "                                                           maxlen=max_length_inp,\n",
    "                                                           padding='post')\n",
    "    inputs = tf.convert_to_tensor(inputs)\n",
    "\n",
    "    result = ''\n",
    "\n",
    "    hidden = [tf.zeros((1, units))]\n",
    "    enc_out, enc_hidden = encoder(inputs, hidden)\n",
    "\n",
    "    dec_hidden = enc_hidden\n",
    "    dec_input = tf.expand_dims([targ_lang.word_index['<start>']], 0)\n",
    "\n",
    "    for t in range(max_length_targ):\n",
    "        predictions, dec_hidden, attention_weights = decoder(dec_input,\n",
    "                                                             dec_hidden,\n",
    "                                                             enc_out)\n",
    "\n",
    "        # storing the attention weights to plot later on\n",
    "        attention_weights = tf.reshape(attention_weights, (-1,))\n",
    "        attention_plot[t] = attention_weights.numpy()\n",
    "\n",
    "        predicted_id = tf.argmax(predictions[0]).numpy()\n",
    "\n",
    "        result += targ_lang.index_word[predicted_id] + ' '\n",
    "\n",
    "        if targ_lang.index_word[predicted_id] == '<end>':\n",
    "            return result, sentence, attention_plot, inputs_not\n",
    "\n",
    "        # the predicted ID is fed back into the model\n",
    "        dec_input = tf.expand_dims([predicted_id], 0)\n",
    "    # print(inputs_not)\n",
    "    return result, sentence, attention_plot, inputs_not\n",
    "\n",
    "\n",
    "# function for plotting the attention weights\n",
    "def plot_attention(attention, sentence, predicted_sentence, index):\n",
    "    fig = plt.figure(figsize=(10, 10))\n",
    "    ax = fig.add_subplot(1, 1, 1)\n",
    "    ax.matshow(attention, cmap='viridis')\n",
    "\n",
    "    fontdict = {'fontsize': 14}\n",
    "\n",
    "    ax.set_xticklabels([''] + sentence, fontdict=fontdict, rotation=90)\n",
    "    ax.set_yticklabels([''] + predicted_sentence, fontdict=fontdict)\n",
    "\n",
    "    ax.xaxis.set_major_locator(ticker.MultipleLocator(1))\n",
    "    ax.yaxis.set_major_locator(ticker.MultipleLocator(1))\n",
    "    # uncomment to save and and show plot of the attention weights\n",
    "    # plt.savefig(\"plot_attention_{}.png\".format(index))\n",
    "    # plt.show()\n",
    "\n",
    "\n",
    "# made to re-insert words which are not in the dictionary after the translation has been done\n",
    "def insert_word_at_index(phrase, array_words):\n",
    "    phrases = phrase.split()\n",
    "    for i in range(len(array_words)):\n",
    "        phrases.insert(array_words[i][1], array_words[i][0])\n",
    "\n",
    "    result = ' '.join(i.strip() for i in phrases)\n",
    "    return result\n",
    "\n",
    "\n",
    "def translate(sentence, index, target):\n",
    "    saved_sentence = sentence\n",
    "    result, sentence, attention_plot, left_word = evaluate(sentence)\n",
    "    if \"<end>\" not in result:\n",
    "        result = result + \"<end>\"\n",
    "\n",
    "    index_end = result.index(\"<end>\")\n",
    "    result_end = result[:index_end].strip()\n",
    "\n",
    "    print('Input: %s' % saved_sentence)\n",
    "    input_ = 'Input: %s' % saved_sentence + \"\\n\"\n",
    "\n",
    "    processed_target = preprocess_sentence(target)\n",
    "    processed_target = processed_target.replace(\"<start>\", \"\")\n",
    "    processed_target = processed_target.replace(\"<end>\", \"\")\n",
    "\n",
    "    print(\"Target : %s\" % target)\n",
    "    targ = \"Target : %s\" % target + \"\\n\"\n",
    "\n",
    "    print('Predicted translation: {}'.format(insert_word_at_index(result_end.capitalize(), left_word)))\n",
    "    print(\"=\" * 40)\n",
    "\n",
    "    prediction = 'Predicted translation: {}'.format(insert_word_at_index(result_end.capitalize(), left_word)) + \"\\n\"\n",
    "    attention_plot = attention_plot[:len(result.split(' ')), :len(sentence.split(' '))]\n",
    "    plot_attention(attention_plot, sentence.split(' '), result.split(' '), index)\n",
    "\n",
    "    all_together = input_ + targ + prediction\n",
    "    return result, processed_target.strip().capitalize(), all_together\n"
   ]
  },
  {
   "cell_type": "markdown",
   "metadata": {},
   "source": [
    "#### Restoring the latest checkpoint in checkpoint_dir to test on test dataset"
   ]
  },
  {
   "cell_type": "code",
   "execution_count": null,
   "metadata": {},
   "outputs": [],
   "source": [
    "# restoring the latest checkpoint in checkpoint_dir to test on test dataset\n",
    "checkpoint.restore(tf.train.latest_checkpoint(checkpoint_dir))\n",
    "\n",
    "all_bleu_scores = []\n",
    "all_records_prediction = []\n",
    "\n",
    "path_to_test = \"fon_french_test_dataset.txt\"\n",
    "\n",
    "test_dataset = load_doc(path_to_test)\n",
    "\n",
    "# split pairs and make sure they're unique\n",
    "fon_test, fr_test = [], []\n",
    "for sentence in test_dataset:\n",
    "    pairs = sentence.split(\"\\t\")\n",
    "    if len(pairs) == 2:  # making sure each element has fon text and its french translation\n",
    "        if pairs[0] not in fon_test:\n",
    "            fon_test.append(pairs[0])\n",
    "            fr_test.append(pairs[1])\n",
    "\n",
    "list_of_references = []\n",
    "hypothesis = []\n",
    "\n",
    "for text_index in range(len(fon_test)):\n",
    "    pred, processed_target, record_translation = translate(fon_test[text_index], text_index, fr_test[text_index])\n",
    "    if pred is not None:\n",
    "        actual = processed_target.lower().split()\n",
    "        predicted = pred.lower().split()[:len(pred.lower().split()) - 1]\n",
    "        hypothesis.append(predicted)\n",
    "        list_of_references.append([actual])\n",
    "\n",
    "        # current_bleu_score_1_gram = bleu([actual], predicted, weights=(1.0, 0, 0, 0))\n",
    "        # current_bleu_score_2_gram = bleu([actual], predicted, weights=(0.5, 0.5, 0, 0))\n",
    "        # current_bleu_score_3_gram = bleu([actual], predicted, weights=(0.3, 0.3, 0.3, 0))\n",
    "        # current_bleu_score_4_gram = bleu([actual], predicted,\n",
    "        #                              weights=(0.25, 0.25, 0.25, 0.25))  # this is the bleu score function by default\n",
    "        # current_bleu_score = max(current_bleu_score_1_gram, current_bleu_score_2_gram, current_bleu_score_3_gram,\n",
    "        #                          current_bleu_score_4_gram)\n",
    "        # all_bleu_scores.append(current_bleu_score)\n",
    "        # print(\"Current bleu score on sentence {} : {}\".format(text_index + 1, current_bleu_score))\n",
    "        end_line = \"=\" * 40\n",
    "        record_translation = record_translation + end_line\n",
    "        all_records_prediction.append(record_translation)\n",
    "    # print(\"=\" * 40)\n",
    "    print(\"Done : \", text_index + 1)\n",
    "\n",
    "bleu_score_4 = corpus_bleu(list_of_references, hypothesis)\n",
    "bleu_score_1 = corpus_bleu(list_of_references, hypothesis, weights=(1.0, 0, 0, 0))\n",
    "bleu_score_2 = corpus_bleu(list_of_references, hypothesis, weights=(0.5, 0.5, 0, 0))\n",
    "bleu_score_3 = corpus_bleu(list_of_references, hypothesis, weights=(0.3, 0.3, 0.3, 0))\n",
    "\n",
    "gleu_score = corpus_gleu(list_of_references, hypothesis)\n",
    "\n",
    "bleu_score_final = \"Overall BLEU Score on FFR v1.0 Test Dataset : {}\".format(\n",
    "    round(max(bleu_score_1, bleu_score_2, bleu_score_3, bleu_score_4) * 100, 2))\n",
    "\n",
    "gleu_score_ = \"Overall GLEU Score on FFR v1.0 Test Dataset : {}\".format(round(gleu_score * 100), 2)\n",
    "\n",
    "testing_scores = list()\n",
    "testing_scores.append(bleu_score_final)\n",
    "testing_scores.append(gleu_score_)\n",
    "# np_all_results = np.array(all_bleu_scores)\n",
    "# np_all_predictions = np.array(all_records_prediction)\n",
    "# np.save(\"all_bleu_results_fr\", np_all_results)\n",
    "# np.save(\"all_records_prediction\", np_all_predictions)\n",
    "# save_list(all_records_prediction, \"all_records_prediction_bleu_scores.txt\")\n",
    "save_list(testing_scores, \"testing_bleu_gleu_scores.txt\")"
   ]
  },
  {
   "cell_type": "code",
   "execution_count": null,
   "metadata": {},
   "outputs": [],
   "source": []
  }
 ],
 "metadata": {
  "colab": {
   "collapsed_sections": [],
   "name": "baseline.ipynb",
   "provenance": []
  },
  "kernelspec": {
   "display_name": "Python 3",
   "language": "python",
   "name": "python3"
  },
  "language_info": {
   "codemirror_mode": {
    "name": "ipython",
    "version": 3
   },
   "file_extension": ".py",
   "mimetype": "text/x-python",
   "name": "python",
   "nbconvert_exporter": "python",
   "pygments_lexer": "ipython3",
   "version": "3.8.6"
  }
 },
 "nbformat": 4,
 "nbformat_minor": 1
}
